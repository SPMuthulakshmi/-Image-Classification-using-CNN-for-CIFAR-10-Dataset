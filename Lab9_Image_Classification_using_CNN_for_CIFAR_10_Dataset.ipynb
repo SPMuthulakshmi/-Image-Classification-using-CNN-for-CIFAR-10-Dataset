{
  "cells": [
    {
      "cell_type": "markdown",
      "source": [
        "# P.MUTHULAKSHMI\n",
        "# 215229124 "
      ],
      "metadata": {
        "id": "PN_pUJ5JA8xg"
      },
      "id": "PN_pUJ5JA8xg"
    },
    {
      "cell_type": "markdown",
      "source": [
        "## ** Lab13: Image Classification using CNN for CIFAR-10 Dataset**"
      ],
      "metadata": {
        "id": "UWiP7o8sBMOQ"
      },
      "id": "UWiP7o8sBMOQ"
    },
    {
      "cell_type": "markdown",
      "id": "foster-latin",
      "metadata": {
        "id": "foster-latin"
      },
      "source": [
        "In this lab, you will work with the CIFAR-10 Dataset. This is a well-known dataset for image \n",
        "classification, which consists of 60000 32x32 color images in 10 classes, with 6000 images per class. \n",
        "There are 50000 training images and 10000 test images.\n",
        "\n",
        "\n",
        "The 10 classes: Airplane, automobile, bird, cat, deer, dog, frog, horse, ship, truck"
      ]
    },
    {
      "cell_type": "markdown",
      "id": "demonstrated-cooler",
      "metadata": {
        "id": "demonstrated-cooler"
      },
      "source": [
        "### 1. Import libraries"
      ]
    },
    {
      "cell_type": "code",
      "execution_count": 1,
      "id": "neural-sessions",
      "metadata": {
        "id": "neural-sessions"
      },
      "outputs": [],
      "source": [
        "from __future__ import print_function\n",
        "import keras\n",
        "from keras.datasets import cifar10\n",
        "from keras.preprocessing.image import ImageDataGenerator\n",
        "from keras.models import Sequential\n",
        "import random\n",
        "import numpy as np\n",
        "from keras.layers import Dense, Dropout, Activation, Flatten\n",
        "from keras.layers import Conv2D, MaxPooling2D\n",
        "from tensorflow.keras.optimizers import RMSprop,SGD,Adam\n",
        "from tensorflow.keras.utils import to_categorical\n",
        "import matplotlib.pyplot as plt\n",
        "%matplotlib inline"
      ]
    },
    {
      "cell_type": "markdown",
      "id": "historical-yemen",
      "metadata": {
        "id": "historical-yemen"
      },
      "source": [
        "### 2. Load your data and print the shape of training and test samples"
      ]
    },
    {
      "cell_type": "code",
      "execution_count": 2,
      "id": "antique-event",
      "metadata": {
        "colab": {
          "base_uri": "https://localhost:8080/"
        },
        "id": "antique-event",
        "outputId": "9a646211-9c63-4aff-c264-dd1c217b3bc2"
      },
      "outputs": [
        {
          "output_type": "stream",
          "name": "stdout",
          "text": [
            "Downloading data from https://www.cs.toronto.edu/~kriz/cifar-10-python.tar.gz\n",
            "170500096/170498071 [==============================] - 14s 0us/step\n",
            "170508288/170498071 [==============================] - 14s 0us/step\n",
            "x_train shape: (50000, 32, 32, 3)\n",
            "x_test shape: (10000, 32, 32, 3)\n",
            "50000 train samples\n",
            "10000 test samples\n"
          ]
        }
      ],
      "source": [
        "(x_train, y_train), (x_test, y_test) = cifar10.load_data()\n",
        "\n",
        "print('x_train shape:', x_train.shape)\n",
        "print('x_test shape:', x_test.shape)\n",
        "\n",
        "print(x_train.shape[0], 'train samples')\n",
        "print(x_test.shape[0], 'test samples')"
      ]
    },
    {
      "cell_type": "markdown",
      "id": "ejUG5KSguMFZ",
      "metadata": {
        "id": "ejUG5KSguMFZ"
      },
      "source": [
        "### 3. Print the shape of one image (is it 32 x 32 x 3 numpy array ?)"
      ]
    },
    {
      "cell_type": "code",
      "execution_count": 3,
      "id": "adequate-vancouver",
      "metadata": {
        "colab": {
          "base_uri": "https://localhost:8080/"
        },
        "id": "adequate-vancouver",
        "outputId": "ef0944d3-8560-4bfe-a5c9-9ae1004b635a"
      },
      "outputs": [
        {
          "output_type": "execute_result",
          "data": {
            "text/plain": [
              "(32, 32, 3)"
            ]
          },
          "metadata": {},
          "execution_count": 3
        }
      ],
      "source": [
        "x_train[444].shape"
      ]
    },
    {
      "cell_type": "markdown",
      "id": "lAOE4Jkrur9i",
      "metadata": {
        "id": "lAOE4Jkrur9i"
      },
      "source": [
        "### 4. Display one image using imshow() function"
      ]
    },
    {
      "cell_type": "code",
      "execution_count": 4,
      "id": "tY7pHIhKuTKi",
      "metadata": {
        "colab": {
          "base_uri": "https://localhost:8080/",
          "height": 301
        },
        "id": "tY7pHIhKuTKi",
        "outputId": "40257b01-3ca2-448c-e127-40831737cad0"
      },
      "outputs": [
        {
          "output_type": "stream",
          "name": "stdout",
          "text": [
            "[9]\n"
          ]
        },
        {
          "output_type": "execute_result",
          "data": {
            "text/plain": [
              "<matplotlib.image.AxesImage at 0x7f6f251929d0>"
            ]
          },
          "metadata": {},
          "execution_count": 4
        },
        {
          "output_type": "display_data",
          "data": {
            "text/plain": [
              "<Figure size 432x288 with 1 Axes>"
            ],
            "image/png": "[encoded data removed]"
          },
          "metadata": {
            "needs_background": "light"
          }
        }
      ],
      "source": [
        "print(y_train[444])\n",
        "plt.imshow(x_train[444])"
      ]
    },
    {
      "cell_type": "markdown",
      "id": "yUfsBqPquvZw",
      "metadata": {
        "id": "yUfsBqPquvZw"
      },
      "source": [
        "### 5. Convert y_train and y_test into categorical values"
      ]
    },
    {
      "cell_type": "code",
      "execution_count": 5,
      "id": "jUoOc5lRuypV",
      "metadata": {
        "id": "jUoOc5lRuypV"
      },
      "outputs": [],
      "source": [
        "num_classes = 10\n",
        "y_train = to_categorical(y_train, num_classes)\n",
        "y_test = to_categorical(y_test, num_classes)"
      ]
    },
    {
      "cell_type": "code",
      "execution_count": 6,
      "id": "54T85X-oq_Ih",
      "metadata": {
        "id": "54T85X-oq_Ih"
      },
      "outputs": [],
      "source": [
        "class_names = ['airplane','car','bird','dog','cat','deer','frog','horse','ship','truck']"
      ]
    },
    {
      "cell_type": "code",
      "execution_count": 7,
      "id": "QJ4xeTvEHqEY",
      "metadata": {
        "colab": {
          "base_uri": "https://localhost:8080/"
        },
        "id": "QJ4xeTvEHqEY",
        "outputId": "e6875284-cc3b-4e5f-aeab-be98b23a89c6"
      },
      "outputs": [
        {
          "output_type": "execute_result",
          "data": {
            "text/plain": [
              "array([0., 0., 0., 0., 0., 0., 1., 0., 0., 0.], dtype=float32)"
            ]
          },
          "metadata": {},
          "execution_count": 7
        }
      ],
      "source": [
        "y_train[0]"
      ]
    },
    {
      "cell_type": "markdown",
      "id": "5E71BvJ7uzLd",
      "metadata": {
        "id": "5E71BvJ7uzLd"
      },
      "source": [
        "### 6. Convert train data into float and scale"
      ]
    },
    {
      "cell_type": "code",
      "execution_count": 8,
      "id": "AisteDKmu3ts",
      "metadata": {
        "id": "AisteDKmu3ts"
      },
      "outputs": [],
      "source": [
        "x_train = x_train.astype('float32')\n",
        "x_test = x_test.astype('float32')\n",
        "x_train /= 255\n",
        "x_test /= 255"
      ]
    },
    {
      "cell_type": "markdown",
      "id": "38-14D5Vu4Yj",
      "metadata": {
        "id": "38-14D5Vu4Yj"
      },
      "source": [
        "### 7. Build your first CNN"
      ]
    },
    {
      "cell_type": "code",
      "execution_count": 9,
      "id": "PPYY0-v7u643",
      "metadata": {
        "id": "PPYY0-v7u643"
      },
      "outputs": [],
      "source": [
        "INPUT_SHAPE = (32,32,3)\n",
        "\n",
        "model = Sequential()\n",
        "\n",
        "model.add(Conv2D(filters=32, kernel_size=(5,5), strides=(2,2),activation='relu', padding='same', input_shape=INPUT_SHAPE))\n",
        "\n",
        "model.add(Conv2D(filters=32, kernel_size=(5,5),strides=(2,2), activation='relu', padding='same', input_shape=INPUT_SHAPE))\n",
        "\n",
        "model.add(MaxPooling2D(pool_size=(2,2)))\n",
        "\n",
        "model.add(Dropout(rate=0.25))\n",
        "\n",
        "model.add(Flatten())\n",
        "\n",
        "model.add(Dense(512, activation='relu'))\n",
        "\n",
        "model.add(Dropout(rate=0.5))\n",
        "\n",
        "model.add(Dense(10, activation='softmax'))"
      ]
    },
    {
      "cell_type": "code",
      "execution_count": 10,
      "id": "wiFu3jkbu_eZ",
      "metadata": {
        "colab": {
          "base_uri": "https://localhost:8080/"
        },
        "id": "wiFu3jkbu_eZ",
        "outputId": "6b859fbf-860a-434f-a8c6-c97baf8c2fc8"
      },
      "outputs": [
        {
          "output_type": "stream",
          "name": "stdout",
          "text": [
            "Model: \"sequential\"\n",
            "_________________________________________________________________\n",
            " Layer (type)                Output Shape              Param #   \n",
            "=================================================================\n",
            " conv2d (Conv2D)             (None, 16, 16, 32)        2432      \n",
            "                                                                 \n",
            " conv2d_1 (Conv2D)           (None, 8, 8, 32)          25632     \n",
            "                                                                 \n",
            " max_pooling2d (MaxPooling2D  (None, 4, 4, 32)         0         \n",
            " )                                                               \n",
            "                                                                 \n",
            " dropout (Dropout)           (None, 4, 4, 32)          0         \n",
            "                                                                 \n",
            " flatten (Flatten)           (None, 512)               0         \n",
            "                                                                 \n",
            " dense (Dense)               (None, 512)               262656    \n",
            "                                                                 \n",
            " dropout_1 (Dropout)         (None, 512)               0         \n",
            "                                                                 \n",
            " dense_1 (Dense)             (None, 10)                5130      \n",
            "                                                                 \n",
            "=================================================================\n",
            "Total params: 295,850\n",
            "Trainable params: 295,850\n",
            "Non-trainable params: 0\n",
            "_________________________________________________________________\n"
          ]
        }
      ],
      "source": [
        "model.summary()"
      ]
    },
    {
      "cell_type": "markdown",
      "id": "992a4708-6c27-4061-9685-f722e92d8b3c",
      "metadata": {
        "id": "992a4708-6c27-4061-9685-f722e92d8b3c"
      },
      "source": [
        "### 8. Print summary and verify your configuration"
      ]
    },
    {
      "cell_type": "code",
      "execution_count": 11,
      "id": "aac3e05f-e848-4a99-ae93-900348d46469",
      "metadata": {
        "colab": {
          "base_uri": "https://localhost:8080/"
        },
        "id": "aac3e05f-e848-4a99-ae93-900348d46469",
        "outputId": "4d4ecc4d-59d6-46ad-fd3c-29b0ba8f072c"
      },
      "outputs": [
        {
          "output_type": "stream",
          "name": "stdout",
          "text": [
            "Model: \"sequential\"\n",
            "_________________________________________________________________\n",
            " Layer (type)                Output Shape              Param #   \n",
            "=================================================================\n",
            " conv2d (Conv2D)             (None, 16, 16, 32)        2432      \n",
            "                                                                 \n",
            " conv2d_1 (Conv2D)           (None, 8, 8, 32)          25632     \n",
            "                                                                 \n",
            " max_pooling2d (MaxPooling2D  (None, 4, 4, 32)         0         \n",
            " )                                                               \n",
            "                                                                 \n",
            " dropout (Dropout)           (None, 4, 4, 32)          0         \n",
            "                                                                 \n",
            " flatten (Flatten)           (None, 512)               0         \n",
            "                                                                 \n",
            " dense (Dense)               (None, 512)               262656    \n",
            "                                                                 \n",
            " dropout_1 (Dropout)         (None, 512)               0         \n",
            "                                                                 \n",
            " dense_1 (Dense)             (None, 10)                5130      \n",
            "                                                                 \n",
            "=================================================================\n",
            "Total params: 295,850\n",
            "Trainable params: 295,850\n",
            "Non-trainable params: 0\n",
            "_________________________________________________________________\n"
          ]
        }
      ],
      "source": [
        "model.summary()"
      ]
    },
    {
      "cell_type": "markdown",
      "id": "amozYhfevBzX",
      "metadata": {
        "id": "amozYhfevBzX"
      },
      "source": [
        "### 9. Compile and fit and validate your model with the following parameters"
      ]
    },
    {
      "cell_type": "code",
      "execution_count": 12,
      "id": "99444a74-3dc1-4cab-b235-a2c3e9c2b8b7",
      "metadata": {
        "id": "99444a74-3dc1-4cab-b235-a2c3e9c2b8b7"
      },
      "outputs": [],
      "source": [
        "model.compile(optimizer=RMSprop(0.00005,1e-6),loss='categorical_crossentropy',metrics=['accuracy'])"
      ]
    },
    {
      "cell_type": "code",
      "execution_count": 13,
      "id": "KsZ9hBrCcEXE",
      "metadata": {
        "colab": {
          "base_uri": "https://localhost:8080/"
        },
        "id": "KsZ9hBrCcEXE",
        "outputId": "1ab94909-f154-427e-e7f2-be6620ca7c76"
      },
      "outputs": [
        {
          "output_type": "stream",
          "name": "stdout",
          "text": [
            "Epoch 1/15\n",
            "1250/1250 - 16s - loss: 2.1439 - accuracy: 0.2050 - val_loss: 1.9409 - val_accuracy: 0.3246 - 16s/epoch - 13ms/step\n",
            "Epoch 2/15\n",
            "1250/1250 - 5s - loss: 1.9146 - accuracy: 0.3044 - val_loss: 1.8161 - val_accuracy: 0.3626 - 5s/epoch - 4ms/step\n",
            "Epoch 3/15\n",
            "1250/1250 - 6s - loss: 1.7961 - accuracy: 0.3514 - val_loss: 1.6903 - val_accuracy: 0.4049 - 6s/epoch - 4ms/step\n",
            "Epoch 4/15\n",
            "1250/1250 - 8s - loss: 1.7232 - accuracy: 0.3799 - val_loss: 1.6393 - val_accuracy: 0.4202 - 8s/epoch - 6ms/step\n",
            "Epoch 5/15\n",
            "1250/1250 - 7s - loss: 1.6750 - accuracy: 0.3951 - val_loss: 1.5850 - val_accuracy: 0.4394 - 7s/epoch - 6ms/step\n",
            "Epoch 6/15\n",
            "1250/1250 - 4s - loss: 1.6353 - accuracy: 0.4076 - val_loss: 1.5751 - val_accuracy: 0.4439 - 4s/epoch - 4ms/step\n",
            "Epoch 7/15\n",
            "1250/1250 - 5s - loss: 1.6031 - accuracy: 0.4203 - val_loss: 1.5293 - val_accuracy: 0.4558 - 5s/epoch - 4ms/step\n",
            "Epoch 8/15\n",
            "1250/1250 - 4s - loss: 1.5743 - accuracy: 0.4318 - val_loss: 1.5061 - val_accuracy: 0.4638 - 4s/epoch - 4ms/step\n",
            "Epoch 9/15\n",
            "1250/1250 - 4s - loss: 1.5550 - accuracy: 0.4377 - val_loss: 1.4852 - val_accuracy: 0.4756 - 4s/epoch - 4ms/step\n",
            "Epoch 10/15\n",
            "1250/1250 - 5s - loss: 1.5359 - accuracy: 0.4486 - val_loss: 1.4745 - val_accuracy: 0.4765 - 5s/epoch - 4ms/step\n",
            "Epoch 11/15\n",
            "1250/1250 - 4s - loss: 1.5160 - accuracy: 0.4550 - val_loss: 1.4574 - val_accuracy: 0.4871 - 4s/epoch - 4ms/step\n",
            "Epoch 12/15\n",
            "1250/1250 - 4s - loss: 1.5005 - accuracy: 0.4612 - val_loss: 1.4307 - val_accuracy: 0.4947 - 4s/epoch - 4ms/step\n",
            "Epoch 13/15\n",
            "1250/1250 - 4s - loss: 1.4904 - accuracy: 0.4628 - val_loss: 1.4182 - val_accuracy: 0.4976 - 4s/epoch - 4ms/step\n",
            "Epoch 14/15\n",
            "1250/1250 - 4s - loss: 1.4729 - accuracy: 0.4719 - val_loss: 1.4343 - val_accuracy: 0.4926 - 4s/epoch - 4ms/step\n",
            "Epoch 15/15\n",
            "1250/1250 - 5s - loss: 1.4636 - accuracy: 0.4758 - val_loss: 1.3882 - val_accuracy: 0.5075 - 5s/epoch - 4ms/step\n"
          ]
        }
      ],
      "source": [
        "history=model.fit(x_train,y_train,batch_size=32,epochs=15,verbose=2,validation_split=0.2,shuffle=True)"
      ]
    },
    {
      "cell_type": "code",
      "execution_count": 14,
      "id": "gxDL1zlXkeAq",
      "metadata": {
        "colab": {
          "base_uri": "https://localhost:8080/"
        },
        "id": "gxDL1zlXkeAq",
        "outputId": "114a2b98-872e-4554-af93-f63e2fba84ab"
      },
      "outputs": [
        {
          "output_type": "stream",
          "name": "stdout",
          "text": [
            "Test loss: 1.3722478151321411\n",
            "Test accuracy: 0.5141000151634216\n"
          ]
        }
      ],
      "source": [
        "score = model.evaluate(x_test, y_test, verbose=0)\n",
        "print('Test loss:', score[0])\n",
        "print('Test accuracy:', score[1])"
      ]
    },
    {
      "cell_type": "markdown",
      "id": "ibl2e6SbvJTG",
      "metadata": {
        "id": "ibl2e6SbvJTG",
        "tags": []
      },
      "source": [
        "### 10. Exercise"
      ]
    },
    {
      "cell_type": "markdown",
      "id": "r9cO54W4Z9Ph",
      "metadata": {
        "id": "r9cO54W4Z9Ph"
      },
      "source": [
        "#### 1. Build a more complicated model with the following pattern: Conv -> Conv-> MaxPool -> Conv-> Conv -> MaxPool -> (Flatten) -> Dense -> Final Classification\n",
        "\n",
        "#### 2. Use strides of 1 for all convolutional layers.\n",
        "\n",
        "#### 3. How many parameters does your model have? How does that compare to the previous model?\n",
        "\n",
        "#### 4. Train it for 5 epochs. What do you notice about the training time, loss and accuracy numbers (on both the training and validation sets)?\n",
        "\n",
        "#### 5. Try different structures and run times, and see how accurate your model can be.\n"
      ]
    },
    {
      "cell_type": "markdown",
      "id": "ca2fab53-5f65-4215-b86a-425c2fca0709",
      "metadata": {
        "id": "ca2fab53-5f65-4215-b86a-425c2fca0709"
      },
      "source": [
        "# Model1"
      ]
    },
    {
      "cell_type": "code",
      "execution_count": 15,
      "id": "pRnmg84FvKDF",
      "metadata": {
        "id": "pRnmg84FvKDF"
      },
      "outputs": [],
      "source": [
        "INPUT_SHAPE = (32,32,3)\n",
        "\n",
        "model1 = Sequential()\n",
        "\n",
        "model1.add(Conv2D(filters=64, kernel_size=(5,5), strides=(1,1),activation='relu', padding='same', input_shape=INPUT_SHAPE))\n",
        "\n",
        "model1.add(Conv2D(filters=32, kernel_size=(4,4),strides=(1,1), activation='relu', padding='same', input_shape=INPUT_SHAPE))\n",
        "\n",
        "model1.add(MaxPooling2D(pool_size=(2,2)))\n",
        "\n",
        "model1.add(Flatten())\n",
        "\n",
        "model1.add(Dense(512, activation='relu'))\n",
        "model1.add(Dense(256, activation='relu'))\n",
        "\n",
        "model1.add(Dense(10, activation='softmax'))"
      ]
    },
    {
      "cell_type": "code",
      "execution_count": 16,
      "id": "cpa2ZqwmcX65",
      "metadata": {
        "colab": {
          "base_uri": "https://localhost:8080/"
        },
        "id": "cpa2ZqwmcX65",
        "outputId": "7379f138-e5b5-49d9-f061-0cefc57c4803"
      },
      "outputs": [
        {
          "output_type": "stream",
          "name": "stdout",
          "text": [
            "Model: \"sequential_1\"\n",
            "_________________________________________________________________\n",
            " Layer (type)                Output Shape              Param #   \n",
            "=================================================================\n",
            " conv2d_2 (Conv2D)           (None, 32, 32, 64)        4864      \n",
            "                                                                 \n",
            " conv2d_3 (Conv2D)           (None, 32, 32, 32)        32800     \n",
            "                                                                 \n",
            " max_pooling2d_1 (MaxPooling  (None, 16, 16, 32)       0         \n",
            " 2D)                                                             \n",
            "                                                                 \n",
            " flatten_1 (Flatten)         (None, 8192)              0         \n",
            "                                                                 \n",
            " dense_2 (Dense)             (None, 512)               4194816   \n",
            "                                                                 \n",
            " dense_3 (Dense)             (None, 256)               131328    \n",
            "                                                                 \n",
            " dense_4 (Dense)             (None, 10)                2570      \n",
            "                                                                 \n",
            "=================================================================\n",
            "Total params: 4,366,378\n",
            "Trainable params: 4,366,378\n",
            "Non-trainable params: 0\n",
            "_________________________________________________________________\n"
          ]
        }
      ],
      "source": [
        "model1.summary()"
      ]
    },
    {
      "cell_type": "code",
      "execution_count": 17,
      "id": "BBahVskValC0",
      "metadata": {
        "id": "BBahVskValC0"
      },
      "outputs": [],
      "source": [
        "model1.compile(optimizer='adam',loss='categorical_crossentropy',metrics=['accuracy'])"
      ]
    },
    {
      "cell_type": "code",
      "execution_count": 18,
      "id": "4ADaHifyakyU",
      "metadata": {
        "colab": {
          "base_uri": "https://localhost:8080/"
        },
        "id": "4ADaHifyakyU",
        "outputId": "9fc45af7-bdf4-4aeb-b3dc-63d2bdbc3b20"
      },
      "outputs": [
        {
          "output_type": "stream",
          "name": "stdout",
          "text": [
            "Epoch 1/15\n",
            "2500/2500 - 14s - loss: 1.5646 - accuracy: 0.4298 - val_loss: 1.2965 - val_accuracy: 0.5330 - 14s/epoch - 6ms/step\n",
            "Epoch 2/15\n",
            "2500/2500 - 12s - loss: 1.1604 - accuracy: 0.5865 - val_loss: 1.1509 - val_accuracy: 0.5914 - 12s/epoch - 5ms/step\n",
            "Epoch 3/15\n",
            "2500/2500 - 13s - loss: 0.9133 - accuracy: 0.6773 - val_loss: 1.1050 - val_accuracy: 0.6130 - 13s/epoch - 5ms/step\n",
            "Epoch 4/15\n",
            "2500/2500 - 12s - loss: 0.6705 - accuracy: 0.7637 - val_loss: 1.1144 - val_accuracy: 0.6407 - 12s/epoch - 5ms/step\n",
            "Epoch 5/15\n",
            "2500/2500 - 11s - loss: 0.4609 - accuracy: 0.8377 - val_loss: 1.4023 - val_accuracy: 0.6244 - 11s/epoch - 5ms/step\n",
            "Epoch 6/15\n",
            "2500/2500 - 13s - loss: 0.3111 - accuracy: 0.8900 - val_loss: 1.5919 - val_accuracy: 0.6221 - 13s/epoch - 5ms/step\n",
            "Epoch 7/15\n",
            "2500/2500 - 11s - loss: 0.2162 - accuracy: 0.9236 - val_loss: 1.8788 - val_accuracy: 0.6238 - 11s/epoch - 5ms/step\n",
            "Epoch 8/15\n",
            "2500/2500 - 13s - loss: 0.1802 - accuracy: 0.9391 - val_loss: 2.1947 - val_accuracy: 0.6179 - 13s/epoch - 5ms/step\n",
            "Epoch 9/15\n",
            "2500/2500 - 13s - loss: 0.1546 - accuracy: 0.9489 - val_loss: 2.3129 - val_accuracy: 0.6159 - 13s/epoch - 5ms/step\n",
            "Epoch 10/15\n",
            "2500/2500 - 13s - loss: 0.1334 - accuracy: 0.9572 - val_loss: 2.4995 - val_accuracy: 0.6156 - 13s/epoch - 5ms/step\n",
            "Epoch 11/15\n",
            "2500/2500 - 12s - loss: 0.1214 - accuracy: 0.9616 - val_loss: 2.5784 - val_accuracy: 0.6108 - 12s/epoch - 5ms/step\n",
            "Epoch 12/15\n",
            "2500/2500 - 11s - loss: 0.1165 - accuracy: 0.9642 - val_loss: 2.7637 - val_accuracy: 0.6070 - 11s/epoch - 5ms/step\n",
            "Epoch 13/15\n",
            "2500/2500 - 13s - loss: 0.1071 - accuracy: 0.9671 - val_loss: 2.8453 - val_accuracy: 0.6124 - 13s/epoch - 5ms/step\n",
            "Epoch 14/15\n",
            "2500/2500 - 13s - loss: 0.1001 - accuracy: 0.9684 - val_loss: 2.8693 - val_accuracy: 0.6087 - 13s/epoch - 5ms/step\n",
            "Epoch 15/15\n",
            "2500/2500 - 12s - loss: 0.0978 - accuracy: 0.9701 - val_loss: 3.1352 - val_accuracy: 0.6112 - 12s/epoch - 5ms/step\n"
          ]
        }
      ],
      "source": [
        "history1=model1.fit(x_train,y_train,batch_size=16,epochs=15,verbose=2,validation_split=0.2,shuffle=True)"
      ]
    },
    {
      "cell_type": "code",
      "execution_count": 19,
      "id": "eRsPyEyWk4NM",
      "metadata": {
        "colab": {
          "base_uri": "https://localhost:8080/"
        },
        "id": "eRsPyEyWk4NM",
        "outputId": "ffec2760-997c-453d-9c91-4bfa54074b02"
      },
      "outputs": [
        {
          "output_type": "stream",
          "name": "stdout",
          "text": [
            "Test loss: 3.3476402759552\n",
            "Test accuracy: 0.6014999747276306\n"
          ]
        }
      ],
      "source": [
        "score = model1.evaluate(x_test, y_test, verbose=0)\n",
        "print('Test loss:', score[0])\n",
        "print('Test accuracy:', score[1])"
      ]
    },
    {
      "cell_type": "markdown",
      "id": "529fe12b-4b6d-4fe1-8c15-7453f7927446",
      "metadata": {
        "id": "529fe12b-4b6d-4fe1-8c15-7453f7927446"
      },
      "source": [
        " # Model2"
      ]
    },
    {
      "cell_type": "code",
      "source": [
        "import tensorflow as tf"
      ],
      "metadata": {
        "id": "6FV9memBDwD4"
      },
      "id": "6FV9memBDwD4",
      "execution_count": 21,
      "outputs": []
    },
    {
      "cell_type": "code",
      "execution_count": 22,
      "id": "zbN0hxG_jz94",
      "metadata": {
        "id": "zbN0hxG_jz94",
        "colab": {
          "base_uri": "https://localhost:8080/"
        },
        "outputId": "0b43e907-d8c2-4536-e600-9e719b252057"
      },
      "outputs": [
        {
          "output_type": "stream",
          "name": "stdout",
          "text": [
            "Model: \"sequential_3\"\n",
            "_________________________________________________________________\n",
            " Layer (type)                Output Shape              Param #   \n",
            "=================================================================\n",
            " conv2d_8 (Conv2D)           (None, 32, 32, 32)        896       \n",
            "                                                                 \n",
            " conv2d_9 (Conv2D)           (None, 32, 32, 32)        9248      \n",
            "                                                                 \n",
            " max_pooling2d_4 (MaxPooling  (None, 16, 16, 32)       0         \n",
            " 2D)                                                             \n",
            "                                                                 \n",
            " dropout_5 (Dropout)         (None, 16, 16, 32)        0         \n",
            "                                                                 \n",
            " conv2d_10 (Conv2D)          (None, 16, 16, 64)        18496     \n",
            "                                                                 \n",
            " conv2d_11 (Conv2D)          (None, 16, 16, 64)        36928     \n",
            "                                                                 \n",
            " max_pooling2d_5 (MaxPooling  (None, 8, 8, 64)         0         \n",
            " 2D)                                                             \n",
            "                                                                 \n",
            " dropout_6 (Dropout)         (None, 8, 8, 64)          0         \n",
            "                                                                 \n",
            " flatten_3 (Flatten)         (None, 4096)              0         \n",
            "                                                                 \n",
            " dense_7 (Dense)             (None, 128)               524416    \n",
            "                                                                 \n",
            " dropout_7 (Dropout)         (None, 128)               0         \n",
            "                                                                 \n",
            " dense_8 (Dense)             (None, 10)                1290      \n",
            "                                                                 \n",
            "=================================================================\n",
            "Total params: 591,274\n",
            "Trainable params: 591,274\n",
            "Non-trainable params: 0\n",
            "_________________________________________________________________\n"
          ]
        }
      ],
      "source": [
        "model2 = Sequential()\n",
        "model2.add(Conv2D(32, kernel_size=3, activation='relu', padding='same', input_shape=(32,32,3)))\n",
        "model2.add(Conv2D(32, kernel_size=3, activation='relu', padding='same'))\n",
        "model2.add(MaxPooling2D())\n",
        "model2.add(Dropout(0.2))\n",
        "\n",
        "model2.add(Conv2D(64, kernel_size=3, activation='relu', padding='same'))\n",
        "model2.add(Conv2D(64, kernel_size=3, activation='relu', padding='same'))\n",
        "model2.add(MaxPooling2D())\n",
        "model2.add(Dropout(0.3))\n",
        "\n",
        "model2.add(Flatten())\n",
        "model2.add(Dense(128, activation='relu'))\n",
        "model2.add(Dropout(0.4))\n",
        "model2.add(Dense(10, activation='softmax'))\n",
        "\n",
        "model2.compile(loss='categorical_crossentropy', optimizer=tf.keras.optimizers.Adam(0.001), metrics=['accuracy'])\n",
        "model2.summary()"
      ]
    },
    {
      "cell_type": "code",
      "execution_count": 23,
      "id": "FCiN9A-udcW5",
      "metadata": {
        "id": "FCiN9A-udcW5"
      },
      "outputs": [],
      "source": [
        "model2.compile(optimizer='adam',loss='categorical_crossentropy',metrics=['accuracy'])"
      ]
    },
    {
      "cell_type": "code",
      "execution_count": 24,
      "id": "PPNf7LwMdhsh",
      "metadata": {
        "colab": {
          "base_uri": "https://localhost:8080/"
        },
        "id": "PPNf7LwMdhsh",
        "outputId": "32e60bb6-e22d-4d01-c983-007bf55ead4a"
      },
      "outputs": [
        {
          "output_type": "stream",
          "name": "stdout",
          "text": [
            "Epoch 1/10\n",
            "1563/1563 [==============================] - 8s 5ms/step - loss: 1.5696 - accuracy: 0.4287\n",
            "Epoch 2/10\n",
            "1563/1563 [==============================] - 7s 5ms/step - loss: 1.1651 - accuracy: 0.5863\n",
            "Epoch 3/10\n",
            "1563/1563 [==============================] - 7s 5ms/step - loss: 1.0071 - accuracy: 0.6467\n",
            "Epoch 4/10\n",
            "1563/1563 [==============================] - 7s 5ms/step - loss: 0.9109 - accuracy: 0.6796\n",
            "Epoch 5/10\n",
            "1563/1563 [==============================] - 8s 5ms/step - loss: 0.8527 - accuracy: 0.7009\n",
            "Epoch 6/10\n",
            "1563/1563 [==============================] - 7s 5ms/step - loss: 0.8033 - accuracy: 0.7178\n",
            "Epoch 7/10\n",
            "1563/1563 [==============================] - 9s 6ms/step - loss: 0.7638 - accuracy: 0.7312\n",
            "Epoch 8/10\n",
            "1563/1563 [==============================] - 8s 5ms/step - loss: 0.7324 - accuracy: 0.7427\n",
            "Epoch 9/10\n",
            "1563/1563 [==============================] - 7s 5ms/step - loss: 0.7070 - accuracy: 0.7519\n",
            "Epoch 10/10\n",
            "1563/1563 [==============================] - 7s 5ms/step - loss: 0.6715 - accuracy: 0.7648\n"
          ]
        }
      ],
      "source": [
        "history2 = model2.fit(x_train,y_train,epochs=10,verbose=1)"
      ]
    },
    {
      "cell_type": "code",
      "execution_count": 25,
      "id": "bYjzjbXFdpbK",
      "metadata": {
        "colab": {
          "base_uri": "https://localhost:8080/"
        },
        "id": "bYjzjbXFdpbK",
        "outputId": "79fe22b2-e0ea-47e1-b7cc-10d3ea6f80e1"
      },
      "outputs": [
        {
          "output_type": "stream",
          "name": "stdout",
          "text": [
            "Test loss: 0.6587533354759216\n",
            "Test accuracy: 0.7710000276565552\n"
          ]
        }
      ],
      "source": [
        "score = model2.evaluate(x_test, y_test, verbose=0)\n",
        "print('Test loss:', score[0])\n",
        "print('Test accuracy:', score[1])"
      ]
    },
    {
      "cell_type": "markdown",
      "id": "5b368cbb-a7f2-46a1-ac70-f1bb61cff6ae",
      "metadata": {
        "id": "5b368cbb-a7f2-46a1-ac70-f1bb61cff6ae"
      },
      "source": [
        " "
      ]
    },
    {
      "cell_type": "markdown",
      "id": "75243fe5-9b2b-4cac-bdc7-ae46a393fbc6",
      "metadata": {
        "id": "75243fe5-9b2b-4cac-bdc7-ae46a393fbc6"
      },
      "source": [
        " # Model3"
      ]
    },
    {
      "cell_type": "code",
      "execution_count": 26,
      "id": "33522cb5-e897-428f-8cdf-bee9e5ec1b3c",
      "metadata": {
        "id": "33522cb5-e897-428f-8cdf-bee9e5ec1b3c"
      },
      "outputs": [],
      "source": [
        "import tensorflow as tf"
      ]
    },
    {
      "cell_type": "code",
      "execution_count": 27,
      "id": "86plOBOCip0e",
      "metadata": {
        "id": "86plOBOCip0e",
        "colab": {
          "base_uri": "https://localhost:8080/"
        },
        "outputId": "9e59b4b5-9e18-4b12-d9a2-0cbbbccac087"
      },
      "outputs": [
        {
          "output_type": "stream",
          "name": "stdout",
          "text": [
            "Model: \"sequential_4\"\n",
            "_________________________________________________________________\n",
            " Layer (type)                Output Shape              Param #   \n",
            "=================================================================\n",
            " conv2d_12 (Conv2D)          (None, 32, 32, 32)        896       \n",
            "                                                                 \n",
            " conv2d_13 (Conv2D)          (None, 32, 32, 32)        9248      \n",
            "                                                                 \n",
            " max_pooling2d_6 (MaxPooling  (None, 16, 16, 32)       0         \n",
            " 2D)                                                             \n",
            "                                                                 \n",
            " dropout_8 (Dropout)         (None, 16, 16, 32)        0         \n",
            "                                                                 \n",
            " conv2d_14 (Conv2D)          (None, 16, 16, 64)        18496     \n",
            "                                                                 \n",
            " conv2d_15 (Conv2D)          (None, 16, 16, 64)        36928     \n",
            "                                                                 \n",
            " max_pooling2d_7 (MaxPooling  (None, 8, 8, 64)         0         \n",
            " 2D)                                                             \n",
            "                                                                 \n",
            " dropout_9 (Dropout)         (None, 8, 8, 64)          0         \n",
            "                                                                 \n",
            " conv2d_16 (Conv2D)          (None, 8, 8, 128)         73856     \n",
            "                                                                 \n",
            " conv2d_17 (Conv2D)          (None, 8, 8, 128)         147584    \n",
            "                                                                 \n",
            " max_pooling2d_8 (MaxPooling  (None, 4, 4, 128)        0         \n",
            " 2D)                                                             \n",
            "                                                                 \n",
            " dropout_10 (Dropout)        (None, 4, 4, 128)         0         \n",
            "                                                                 \n",
            " flatten_4 (Flatten)         (None, 2048)              0         \n",
            "                                                                 \n",
            " dense_9 (Dense)             (None, 128)               262272    \n",
            "                                                                 \n",
            " dropout_11 (Dropout)        (None, 128)               0         \n",
            "                                                                 \n",
            " dense_10 (Dense)            (None, 10)                1290      \n",
            "                                                                 \n",
            "=================================================================\n",
            "Total params: 550,570\n",
            "Trainable params: 550,570\n",
            "Non-trainable params: 0\n",
            "_________________________________________________________________\n"
          ]
        }
      ],
      "source": [
        "model3 = Sequential()\n",
        "model3.add(Conv2D(32, kernel_size=3, activation='relu', padding='same', input_shape=(32,32,3)))\n",
        "model3.add(Conv2D(32, kernel_size=3, activation='relu', padding='same'))\n",
        "model3.add(MaxPooling2D())\n",
        "model3.add(Dropout(0.2))\n",
        "\n",
        "model3.add(Conv2D(64, kernel_size=3, activation='relu', padding='same'))\n",
        "model3.add(Conv2D(64, kernel_size=3, activation='relu', padding='same'))\n",
        "model3.add(MaxPooling2D())\n",
        "model3.add(Dropout(0.3))\n",
        "\n",
        "model3.add(Conv2D(128, kernel_size=3, activation='relu', padding='same'))\n",
        "model3.add(Conv2D(128, kernel_size=3, activation='relu', padding='same'))\n",
        "model3.add(MaxPooling2D())\n",
        "model3.add(Dropout(0.4))\n",
        "\n",
        "model3.add(Flatten())\n",
        "model3.add(Dense(128, activation='relu'))\n",
        "model3.add(Dropout(0.4))\n",
        "model3.add(Dense(10, activation='softmax'))\n",
        "\n",
        "model3.compile(loss='categorical_crossentropy', optimizer=tf.keras.optimizers.Adam(0.001), metrics=['accuracy'])\n",
        "model3.summary()"
      ]
    },
    {
      "cell_type": "code",
      "execution_count": 28,
      "id": "9faa5375-3977-4e8a-9986-f9170474c20e",
      "metadata": {
        "id": "9faa5375-3977-4e8a-9986-f9170474c20e"
      },
      "outputs": [],
      "source": [
        "model3.compile(optimizer='adam',loss='categorical_crossentropy',metrics=['accuracy'])"
      ]
    },
    {
      "cell_type": "code",
      "execution_count": 29,
      "id": "8ef099a6-7902-48e6-bc1d-2dc7a5031dda",
      "metadata": {
        "colab": {
          "base_uri": "https://localhost:8080/"
        },
        "id": "8ef099a6-7902-48e6-bc1d-2dc7a5031dda",
        "outputId": "76e2be68-fc9e-44a2-cad9-e864fff70617"
      },
      "outputs": [
        {
          "output_type": "stream",
          "name": "stdout",
          "text": [
            "Epoch 1/10\n",
            "1563/1563 [==============================] - 10s 6ms/step - loss: 1.7546 - accuracy: 0.3483\n",
            "Epoch 2/10\n",
            "1563/1563 [==============================] - 9s 6ms/step - loss: 1.3486 - accuracy: 0.5173\n",
            "Epoch 3/10\n",
            "1563/1563 [==============================] - 9s 6ms/step - loss: 1.1750 - accuracy: 0.5829\n",
            "Epoch 4/10\n",
            "1563/1563 [==============================] - 9s 5ms/step - loss: 1.0754 - accuracy: 0.6232\n",
            "Epoch 5/10\n",
            "1563/1563 [==============================] - 9s 5ms/step - loss: 1.0087 - accuracy: 0.6494\n",
            "Epoch 6/10\n",
            "1563/1563 [==============================] - 9s 5ms/step - loss: 0.9499 - accuracy: 0.6700\n",
            "Epoch 7/10\n",
            "1563/1563 [==============================] - 8s 5ms/step - loss: 0.9079 - accuracy: 0.6850\n",
            "Epoch 8/10\n",
            "1563/1563 [==============================] - 8s 5ms/step - loss: 0.8708 - accuracy: 0.6974\n",
            "Epoch 9/10\n",
            "1563/1563 [==============================] - 9s 5ms/step - loss: 0.8494 - accuracy: 0.7052\n",
            "Epoch 10/10\n",
            "1563/1563 [==============================] - 9s 6ms/step - loss: 0.8214 - accuracy: 0.7159\n"
          ]
        }
      ],
      "source": [
        "history3 = model3.fit(x_train,y_train,epochs=10,verbose=1)"
      ]
    },
    {
      "cell_type": "code",
      "execution_count": 30,
      "id": "2f7c6496-21b0-4a08-8b47-74f70b07347e",
      "metadata": {
        "colab": {
          "base_uri": "https://localhost:8080/"
        },
        "id": "2f7c6496-21b0-4a08-8b47-74f70b07347e",
        "outputId": "240d9ad9-bfbd-418c-f4c5-7d659ac1aa1b"
      },
      "outputs": [
        {
          "output_type": "stream",
          "name": "stdout",
          "text": [
            "Test loss: 0.7365416288375854\n",
            "Test accuracy: 0.742900013923645\n"
          ]
        }
      ],
      "source": [
        "score = model3.evaluate(x_test, y_test, verbose=0)\n",
        "print('Test loss:', score[0])\n",
        "print('Test accuracy:', score[1])"
      ]
    },
    {
      "cell_type": "markdown",
      "id": "34645450-4a02-4bcb-a024-3c68b8d9cf3a",
      "metadata": {
        "id": "34645450-4a02-4bcb-a024-3c68b8d9cf3a"
      },
      "source": [
        " # Model4"
      ]
    },
    {
      "cell_type": "code",
      "execution_count": 31,
      "id": "70f4f4c8-b49b-494f-8655-95ff75347dae",
      "metadata": {
        "colab": {
          "base_uri": "https://localhost:8080/"
        },
        "id": "70f4f4c8-b49b-494f-8655-95ff75347dae",
        "outputId": "59d6726c-d427-41b6-a71f-f8b2e670c8ad"
      },
      "outputs": [
        {
          "output_type": "stream",
          "name": "stdout",
          "text": [
            "Model: \"sequential_5\"\n",
            "_________________________________________________________________\n",
            " Layer (type)                Output Shape              Param #   \n",
            "=================================================================\n",
            " conv2d_18 (Conv2D)          (None, 32, 32, 32)        896       \n",
            "                                                                 \n",
            " conv2d_19 (Conv2D)          (None, 32, 32, 32)        9248      \n",
            "                                                                 \n",
            " max_pooling2d_9 (MaxPooling  (None, 16, 16, 32)       0         \n",
            " 2D)                                                             \n",
            "                                                                 \n",
            " dropout_12 (Dropout)        (None, 16, 16, 32)        0         \n",
            "                                                                 \n",
            " conv2d_20 (Conv2D)          (None, 16, 16, 64)        18496     \n",
            "                                                                 \n",
            " conv2d_21 (Conv2D)          (None, 16, 16, 64)        36928     \n",
            "                                                                 \n",
            " max_pooling2d_10 (MaxPoolin  (None, 8, 8, 64)         0         \n",
            " g2D)                                                            \n",
            "                                                                 \n",
            " dropout_13 (Dropout)        (None, 8, 8, 64)          0         \n",
            "                                                                 \n",
            " conv2d_22 (Conv2D)          (None, 8, 8, 128)         73856     \n",
            "                                                                 \n",
            " conv2d_23 (Conv2D)          (None, 8, 8, 128)         147584    \n",
            "                                                                 \n",
            " max_pooling2d_11 (MaxPoolin  (None, 4, 4, 128)        0         \n",
            " g2D)                                                            \n",
            "                                                                 \n",
            " dropout_14 (Dropout)        (None, 4, 4, 128)         0         \n",
            "                                                                 \n",
            " flatten_5 (Flatten)         (None, 2048)              0         \n",
            "                                                                 \n",
            " dense_11 (Dense)            (None, 128)               262272    \n",
            "                                                                 \n",
            " dropout_15 (Dropout)        (None, 128)               0         \n",
            "                                                                 \n",
            " dense_12 (Dense)            (None, 10)                1290      \n",
            "                                                                 \n",
            "=================================================================\n",
            "Total params: 550,570\n",
            "Trainable params: 550,570\n",
            "Non-trainable params: 0\n",
            "_________________________________________________________________\n"
          ]
        }
      ],
      "source": [
        "model4 = Sequential()\n",
        "model4.add(Conv2D(32, kernel_size=3, activation='relu', padding='same', input_shape=(32,32,3)))\n",
        "model4.add(Conv2D(32, kernel_size=3, activation='relu', padding='same'))\n",
        "model4.add(MaxPooling2D())\n",
        "model4.add(Dropout(0.2))\n",
        "\n",
        "model4.add(Conv2D(64, kernel_size=3, activation='relu', padding='same'))\n",
        "model4.add(Conv2D(64, kernel_size=3, activation='relu', padding='same'))\n",
        "model4.add(MaxPooling2D())\n",
        "model4.add(Dropout(0.3))\n",
        "\n",
        "model4.add(Conv2D(128, kernel_size=3, activation='relu', padding='same'))\n",
        "model4.add(Conv2D(128, kernel_size=3, activation='relu', padding='same'))\n",
        "model4.add(MaxPooling2D())\n",
        "model4.add(Dropout(0.4))\n",
        "\n",
        "model4.add(Flatten())\n",
        "model4.add(Dense(128, activation='relu'))\n",
        "model4.add(Dropout(0.4))\n",
        "model4.add(Dense(10, activation='softmax'))\n",
        "\n",
        "model4.compile(loss='categorical_crossentropy', optimizer=tf.keras.optimizers.Adam(0.001), metrics=['accuracy'])\n",
        "model4.summary()"
      ]
    },
    {
      "cell_type": "code",
      "execution_count": 32,
      "id": "f811cc2f-fb19-4f0a-8f2b-fca58fe8a4bc",
      "metadata": {
        "id": "f811cc2f-fb19-4f0a-8f2b-fca58fe8a4bc"
      },
      "outputs": [],
      "source": [
        "model4.compile(optimizer='adam',loss='categorical_crossentropy',metrics=['accuracy'])"
      ]
    },
    {
      "cell_type": "code",
      "execution_count": 33,
      "id": "284be031-9f9c-481e-b8ad-0d9a44a54a6a",
      "metadata": {
        "colab": {
          "base_uri": "https://localhost:8080/"
        },
        "id": "284be031-9f9c-481e-b8ad-0d9a44a54a6a",
        "outputId": "3f51cce1-e3ed-4030-b189-e98ca91b1090"
      },
      "outputs": [
        {
          "output_type": "stream",
          "name": "stdout",
          "text": [
            "Epoch 1/30\n",
            "1563/1563 [==============================] - 10s 6ms/step - loss: 1.6885 - accuracy: 0.3747\n",
            "Epoch 2/30\n",
            "1563/1563 [==============================] - 9s 6ms/step - loss: 1.2777 - accuracy: 0.5403\n",
            "Epoch 3/30\n",
            "1563/1563 [==============================] - 9s 5ms/step - loss: 1.1092 - accuracy: 0.6084\n",
            "Epoch 4/30\n",
            "1563/1563 [==============================] - 9s 6ms/step - loss: 1.0060 - accuracy: 0.6480\n",
            "Epoch 5/30\n",
            "1563/1563 [==============================] - 9s 6ms/step - loss: 0.9503 - accuracy: 0.6652\n",
            "Epoch 6/30\n",
            "1563/1563 [==============================] - 10s 6ms/step - loss: 0.9042 - accuracy: 0.6842\n",
            "Epoch 7/30\n",
            "1563/1563 [==============================] - 9s 6ms/step - loss: 0.8653 - accuracy: 0.7011\n",
            "Epoch 8/30\n",
            "1563/1563 [==============================] - 9s 6ms/step - loss: 0.8315 - accuracy: 0.7083\n",
            "Epoch 9/30\n",
            "1563/1563 [==============================] - 9s 6ms/step - loss: 0.8089 - accuracy: 0.7202\n",
            "Epoch 10/30\n",
            "1563/1563 [==============================] - 9s 6ms/step - loss: 0.7856 - accuracy: 0.7292\n",
            "Epoch 11/30\n",
            "1563/1563 [==============================] - 9s 6ms/step - loss: 0.7679 - accuracy: 0.7326\n",
            "Epoch 12/30\n",
            "1563/1563 [==============================] - 9s 6ms/step - loss: 0.7614 - accuracy: 0.7369\n",
            "Epoch 13/30\n",
            "1563/1563 [==============================] - 9s 6ms/step - loss: 0.7372 - accuracy: 0.7440\n",
            "Epoch 14/30\n",
            "1563/1563 [==============================] - 9s 6ms/step - loss: 0.7282 - accuracy: 0.7478\n",
            "Epoch 15/30\n",
            "1563/1563 [==============================] - 9s 6ms/step - loss: 0.7142 - accuracy: 0.7533\n",
            "Epoch 16/30\n",
            "1563/1563 [==============================] - 9s 6ms/step - loss: 0.7080 - accuracy: 0.7560\n",
            "Epoch 17/30\n",
            "1563/1563 [==============================] - 9s 6ms/step - loss: 0.7001 - accuracy: 0.7583\n",
            "Epoch 18/30\n",
            "1563/1563 [==============================] - 9s 6ms/step - loss: 0.6951 - accuracy: 0.7622\n",
            "Epoch 19/30\n",
            "1563/1563 [==============================] - 9s 6ms/step - loss: 0.6836 - accuracy: 0.7652\n",
            "Epoch 20/30\n",
            "1563/1563 [==============================] - 9s 6ms/step - loss: 0.6764 - accuracy: 0.7681\n",
            "Epoch 21/30\n",
            "1563/1563 [==============================] - 9s 6ms/step - loss: 0.6723 - accuracy: 0.7679\n",
            "Epoch 22/30\n",
            "1563/1563 [==============================] - 9s 6ms/step - loss: 0.6669 - accuracy: 0.7701\n",
            "Epoch 23/30\n",
            "1563/1563 [==============================] - 9s 6ms/step - loss: 0.6616 - accuracy: 0.7722\n",
            "Epoch 24/30\n",
            "1563/1563 [==============================] - 9s 6ms/step - loss: 0.6551 - accuracy: 0.7727\n",
            "Epoch 25/30\n",
            "1563/1563 [==============================] - 9s 6ms/step - loss: 0.6475 - accuracy: 0.7770\n",
            "Epoch 26/30\n",
            "1563/1563 [==============================] - 9s 6ms/step - loss: 0.6438 - accuracy: 0.7777\n",
            "Epoch 27/30\n",
            "1563/1563 [==============================] - 9s 6ms/step - loss: 0.6433 - accuracy: 0.7789\n",
            "Epoch 28/30\n",
            "1563/1563 [==============================] - 9s 6ms/step - loss: 0.6453 - accuracy: 0.7773\n",
            "Epoch 29/30\n",
            "1563/1563 [==============================] - 9s 6ms/step - loss: 0.6371 - accuracy: 0.7815\n",
            "Epoch 30/30\n",
            "1563/1563 [==============================] - 9s 6ms/step - loss: 0.6331 - accuracy: 0.7820\n"
          ]
        }
      ],
      "source": [
        "\n",
        "history4 = model4.fit(x_train,y_train,epochs=30,verbose=1)"
      ]
    },
    {
      "cell_type": "code",
      "execution_count": 34,
      "id": "1c19e37b-fd54-4d51-86f2-55c01b145e4a",
      "metadata": {
        "colab": {
          "base_uri": "https://localhost:8080/"
        },
        "id": "1c19e37b-fd54-4d51-86f2-55c01b145e4a",
        "outputId": "6eab5cdb-59d1-47fe-d9ed-df0467d04e9c"
      },
      "outputs": [
        {
          "output_type": "stream",
          "name": "stdout",
          "text": [
            "Test loss: 0.6826088428497314\n",
            "Test accuracy: 0.7786999940872192\n"
          ]
        }
      ],
      "source": [
        "score = model4.evaluate(x_test, y_test, verbose=0)\n",
        "print('Test loss:', score[0])\n",
        "print('Test accuracy:', score[1])"
      ]
    },
    {
      "cell_type": "code",
      "execution_count": null,
      "id": "3b278d74-c198-4275-bd07-e5bf01820a59",
      "metadata": {
        "id": "3b278d74-c198-4275-bd07-e5bf01820a59"
      },
      "outputs": [],
      "source": []
    },
    {
      "cell_type": "code",
      "execution_count": null,
      "id": "e8a3cc9d-54dc-4334-ac81-c8d01184f23e",
      "metadata": {
        "id": "e8a3cc9d-54dc-4334-ac81-c8d01184f23e"
      },
      "outputs": [],
      "source": []
    }
  ],
  "metadata": {
    "accelerator": "GPU",
    "colab": {
      "collapsed_sections": [],
      "provenance": []
    },
    "kernelspec": {
      "display_name": "Python 3 (ipykernel)",
      "language": "python",
      "name": "python3"
    },
    "language_info": {
      "codemirror_mode": {
        "name": "ipython",
        "version": 3
      },
      "file_extension": ".py",
      "mimetype": "text/x-python",
      "name": "python",
      "nbconvert_exporter": "python",
      "pygments_lexer": "ipython3",
      "version": "3.8.8"
    }
  },
  "nbformat": 4,
  "nbformat_minor": 5
}